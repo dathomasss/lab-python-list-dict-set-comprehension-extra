{
 "cells": [
  {
   "cell_type": "code",
   "execution_count": 186,
   "id": "a81ae9f9-ecdb-4549-8836-0fde58e373f2",
   "metadata": {
    "scrolled": true
   },
   "outputs": [
    {
     "data": {
      "text/plain": [
       "{('a', 'c'), ('a', 'd'), ('b', 'c'), ('b', 'd')}"
      ]
     },
     "execution_count": 186,
     "metadata": {},
     "output_type": "execute_result"
    }
   ],
   "source": [
    "#Challenge 1\n",
    "#1\n",
    "input =  [[18, 20], [45, 2], [61, 12], [37, 6], [21, 21], [78, 9]]\n",
    "output = [\"senior\" if i[0]> 55 and i[1] > 7 else \"open\" for i in input]\n",
    "\n",
    "#2\n",
    "def sum_multiple(x):\n",
    "\n",
    "    if x > 0 :\n",
    "        liste = [i if (i%5==0 and i%3==0) or i%5==0 or i%3==0 else 0 for i in range (1, x)]\n",
    "        summ = sum(liste)\n",
    "        return summ\n",
    "    else :\n",
    "        return 0\n",
    "sum_multiple(10)\n",
    "\n",
    "#3\n",
    "def return_array(x):\n",
    "\n",
    "    x = str(x)\n",
    "    liste=[int(i) for i in x]\n",
    "    return liste\n",
    "    \n",
    "return_array(8675309)\n",
    "\n",
    "#4\n",
    "def invert(liste):\n",
    "\n",
    "    lis = [-i for i in liste]\n",
    "    return lis\n",
    "\n",
    "invert([])\n",
    "\n",
    "#Challenge 2\n",
    "#1\n",
    "dico = {i:i**2 for i in range(1, 16)}\n",
    "\n",
    "\n",
    "#2\n",
    "input = [1, 2], [3, 4]\n",
    "\n",
    "output = [(a,b) for a in input[0] for b in input[1]]\n",
    "output\n",
    "\n",
    "#3\n",
    "input = {\"a\": [1, 2], \"b\": [3, 4]}\n",
    "output = {(a,c) for a, b in input.items() for c in b}\n",
    "\n",
    "#Bonus\n",
    "input = [\"ab\", \"cd\"]\n",
    "output = {(val1, val2) for val1 in input[0] for val2 in input[1]}\n",
    "output\n",
    "\n"
   ]
  }
 ],
 "metadata": {
  "kernelspec": {
   "display_name": "Python 3 (ipykernel)",
   "language": "python",
   "name": "python3"
  },
  "language_info": {
   "codemirror_mode": {
    "name": "ipython",
    "version": 3
   },
   "file_extension": ".py",
   "mimetype": "text/x-python",
   "name": "python",
   "nbconvert_exporter": "python",
   "pygments_lexer": "ipython3",
   "version": "3.12.7"
  }
 },
 "nbformat": 4,
 "nbformat_minor": 5
}
